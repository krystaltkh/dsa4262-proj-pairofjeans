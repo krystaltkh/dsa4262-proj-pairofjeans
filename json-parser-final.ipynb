{
 "cells": [
  {
   "cell_type": "code",
   "execution_count": 1,
   "id": "9cb62bae",
   "metadata": {},
   "outputs": [],
   "source": [
    "import json\n",
    "import math\n",
    "import pandas as pd"
   ]
  },
  {
   "cell_type": "markdown",
   "id": "20461002",
   "metadata": {},
   "source": [
    "# Start from here"
   ]
  },
  {
   "cell_type": "code",
   "execution_count": null,
   "id": "a99a9e9e",
   "metadata": {
    "scrolled": true
   },
   "outputs": [],
   "source": [
    "jsondata = list()\n",
    "print(\"Started Reading JSON file.\")\n",
    "with open('./data/data.json', 'r') as f:\n",
    "    # count = 0\n",
    "    for jsonObj in f:\n",
    "        # count += 1\n",
    "        # print(count)\n",
    "        jsonDict = json.loads(jsonObj)\n",
    "        jsondata.append(jsonDict)\n",
    "\n",
    "print(\"Done reading JSON file.\")"
   ]
  },
  {
   "cell_type": "code",
   "execution_count": 6,
   "id": "2b1d4a2d",
   "metadata": {},
   "outputs": [
    {
     "data": {
      "text/plain": [
       "121838"
      ]
     },
     "execution_count": 6,
     "metadata": {},
     "output_type": "execute_result"
    }
   ],
   "source": [
    "# len(jsondata)"
   ]
  },
  {
   "cell_type": "code",
   "execution_count": 7,
   "id": "fc7dc00c",
   "metadata": {},
   "outputs": [],
   "source": [
    "data = list([[tr_id,pos,segment,reads] for row in jsondata \\\n",
    "             for tr_id,j in row.items() \\\n",
    "             for pos,y in j.items() \\\n",
    "             for segment,reads in y.items()])"
   ]
  },
  {
   "cell_type": "code",
   "execution_count": 8,
   "id": "0d56b8f4",
   "metadata": {},
   "outputs": [
    {
     "data": {
      "text/plain": [
       "121838"
      ]
     },
     "execution_count": 8,
     "metadata": {},
     "output_type": "execute_result"
    }
   ],
   "source": [
    "# len(data)"
   ]
  },
  {
   "cell_type": "code",
   "execution_count": null,
   "id": "f2faf46f",
   "metadata": {},
   "outputs": [],
   "source": [
    "# counter = 0\n",
    "print(\"Summarising reads.\")\n",
    "for i in data:\n",
    "    n=len(i[3])\n",
    "    # counter+=1\n",
    "    # print(counter)\n",
    "    for read in i[3]: #index 3 contains all reads\n",
    "        n=len(i[3])\n",
    "        zipped_reads = list(zip(*i[3]))\n",
    "        mean_time1=sum(zipped_reads[0])/n\n",
    "        mean_cur1=sum(zipped_reads[2])/n\n",
    "        mean_time2=sum(zipped_reads[3])/n\n",
    "        mean_cur2=sum(zipped_reads[5])/n\n",
    "        mean_time3=sum(zipped_reads[6])/n\n",
    "        mean_cur3=sum(zipped_reads[8])/n\n",
    "        sum_sd1=0\n",
    "        sum_sd2=0\n",
    "        sum_sd3=0\n",
    "        for read in i[3]:\n",
    "            sum_sd1 += (read[1]**2 + (read[2] - mean_cur1)**2)\n",
    "            sum_sd2 += (read[4]**2 + (read[5] - mean_cur2)**2)\n",
    "            sum_sd3 += (read[7]**2 + (read[8] - mean_cur3)**2)\n",
    "        combi_sd1 = math.sqrt(sum_sd1/n)\n",
    "        combi_sd2 = math.sqrt(sum_sd2/n)\n",
    "        combi_sd3 = math.sqrt(sum_sd3/n) \n",
    "    i.pop() # pop list of all reads in last index to replaced with summarised read\n",
    "    i.extend([n,mean_time1,combi_sd1,mean_cur1,mean_time2,combi_sd2,mean_cur2,mean_time3,combi_sd3,mean_cur3])\n",
    "print(\"Done summarising reads.\")"
   ]
  },
  {
   "cell_type": "code",
   "execution_count": 34,
   "id": "749f2dd7",
   "metadata": {},
   "outputs": [],
   "source": [
    "data_final = pd.DataFrame(data, columns=['tr_id', 'pos', 'segment', 'num_reads',\n",
    "                             'mean_time1', 'combined_sd1', 'mean_cur1',\n",
    "                             'mean_time2', 'combined_sd2', 'mean_cur2',\n",
    "                             'mean_time3', 'combined_sd3', 'mean_cur3'])"
   ]
  },
  {
   "cell_type": "code",
   "execution_count": 289,
   "id": "845ed342",
   "metadata": {},
   "outputs": [],
   "source": [
    "data_final.to_csv('./data/parsed-data.csv', index=False, header=True)"
   ]
  }
 ],
 "metadata": {
  "kernelspec": {
   "display_name": "Python 3 (ipykernel)",
   "language": "python",
   "name": "python3"
  },
  "language_info": {
   "codemirror_mode": {
    "name": "ipython",
    "version": 3
   },
   "file_extension": ".py",
   "mimetype": "text/x-python",
   "name": "python",
   "nbconvert_exporter": "python",
   "pygments_lexer": "ipython3",
   "version": "3.10.7"
  },
  "vscode": {
   "interpreter": {
    "hash": "c69b0c34094ba812c261191f3ea829a5f1af407041a4570e6c2b4630d128ee2c"
   }
  }
 },
 "nbformat": 4,
 "nbformat_minor": 5
}
